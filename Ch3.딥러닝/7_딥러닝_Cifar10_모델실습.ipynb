{
  "nbformat": 4,
  "nbformat_minor": 0,
  "metadata": {
    "colab": {
      "name": "7_딥러닝 Cifar10 모델실습.ipynb",
      "provenance": [],
      "mount_file_id": "1NGxtgodGUDX49rxPy4w2y4r244aeKh-4",
      "authorship_tag": "ABX9TyNYcla7d+BLMPH7YyzCazp4",
      "include_colab_link": true
    },
    "kernelspec": {
      "name": "python3",
      "display_name": "Python 3"
    },
    "language_info": {
      "name": "python"
    }
  },
  "cells": [
    {
      "cell_type": "markdown",
      "metadata": {
        "id": "view-in-github",
        "colab_type": "text"
      },
      "source": [
        "<a href=\"https://colab.research.google.com/github/whiteydoublee/Colab/blob/main/Ch3.%EB%94%A5%EB%9F%AC%EB%8B%9D/7_%EB%94%A5%EB%9F%AC%EB%8B%9D_Cifar10_%EB%AA%A8%EB%8D%B8%EC%8B%A4%EC%8A%B5.ipynb\" target=\"_parent\"><img src=\"https://colab.research.google.com/assets/colab-badge.svg\" alt=\"Open In Colab\"/></a>"
      ]
    },
    {
      "cell_type": "code",
      "metadata": {
        "id": "wMdqJWKGzY-A"
      },
      "source": [
        "\"\"\"\n",
        "날짜: 2021/10/27\n",
        "이름: 김예은\n",
        "내용: 딥러닝 Cifar10 모델 실습하기\n",
        "\"\"\"\n",
        "import tensorflow as tf\n",
        "from tensorflow.keras.datasets.cifar10 import load_data\n",
        "from tensorflow.keras.utils import to_categorical\n",
        "from tensorflow.keras.models import load_model\n"
      ],
      "execution_count": 6,
      "outputs": []
    },
    {
      "cell_type": "code",
      "metadata": {
        "colab": {
          "base_uri": "https://localhost:8080/"
        },
        "id": "6jeMYAi_zwUA",
        "outputId": "c5182d40-2fd7-4cca-9395-a49cb81b19c2"
      },
      "source": [
        "#데이터불러오기\n",
        "(cifar_train_data,cifar_train_label),(cifar_test_data, cifar_test_label) = load_data()\n",
        "cifar_train_data.shape"
      ],
      "execution_count": 7,
      "outputs": [
        {
          "output_type": "execute_result",
          "data": {
            "text/plain": [
              "(50000, 32, 32, 3)"
            ]
          },
          "metadata": {},
          "execution_count": 7
        }
      ]
    },
    {
      "cell_type": "code",
      "metadata": {
        "id": "ZRo7cwc_z3zZ"
      },
      "source": [
        "#학습데이터, 라벨(원-핫 인코딩)\n",
        "cifar_train_data = cifar_train_data / 255\n",
        "cifar_test_data = cifar_test_data / 255\n",
        "\n",
        "cifar_train_label = to_categorical(cifar_train_label)\n",
        "cifar_test_label = to_categorical(cifar_test_label)"
      ],
      "execution_count": 8,
      "outputs": []
    },
    {
      "cell_type": "code",
      "metadata": {
        "colab": {
          "base_uri": "https://localhost:8080/"
        },
        "id": "Nc6uJu4lz7xK",
        "outputId": "3fd8ba08-f57c-447b-f8c4-6b6be28fc7a1"
      },
      "source": [
        "# 모델 가져오기\n",
        "model = load_model('/content/drive/MyDrive/Colab Notebooks/Model/cifar10.h5')\n",
        "model.summary()"
      ],
      "execution_count": 9,
      "outputs": [
        {
          "output_type": "stream",
          "name": "stdout",
          "text": [
            "Model: \"sequential\"\n",
            "_________________________________________________________________\n",
            "Layer (type)                 Output Shape              Param #   \n",
            "=================================================================\n",
            "conv2d (Conv2D)              (None, 32, 32, 32)        896       \n",
            "_________________________________________________________________\n",
            "conv2d_1 (Conv2D)            (None, 32, 32, 32)        9248      \n",
            "_________________________________________________________________\n",
            "max_pooling2d (MaxPooling2D) (None, 16, 16, 32)        0         \n",
            "_________________________________________________________________\n",
            "dropout (Dropout)            (None, 16, 16, 32)        0         \n",
            "_________________________________________________________________\n",
            "flatten (Flatten)            (None, 8192)              0         \n",
            "_________________________________________________________________\n",
            "dense (Dense)                (None, 256)               2097408   \n",
            "_________________________________________________________________\n",
            "dense_1 (Dense)              (None, 10)                2570      \n",
            "=================================================================\n",
            "Total params: 2,110,122\n",
            "Trainable params: 2,110,122\n",
            "Non-trainable params: 0\n",
            "_________________________________________________________________\n"
          ]
        }
      ]
    },
    {
      "cell_type": "code",
      "metadata": {
        "colab": {
          "base_uri": "https://localhost:8080/"
        },
        "id": "1ewD2RLD0KT6",
        "outputId": "45a4c06e-92d8-4c90-af65-e31261f7d687"
      },
      "source": [
        "#평가하기\n",
        "model.evaluate(cifar_test_data, cifar_test_label)"
      ],
      "execution_count": 5,
      "outputs": [
        {
          "output_type": "stream",
          "name": "stdout",
          "text": [
            "313/313 [==============================] - 8s 22ms/step - loss: 2.0106 - acc: 0.6905\n"
          ]
        },
        {
          "output_type": "execute_result",
          "data": {
            "text/plain": [
              "[2.010638952255249, 0.690500020980835]"
            ]
          },
          "metadata": {},
          "execution_count": 5
        }
      ]
    },
    {
      "cell_type": "code",
      "metadata": {
        "id": "slOOEG1O0R5S"
      },
      "source": [
        ""
      ],
      "execution_count": null,
      "outputs": []
    }
  ]
}
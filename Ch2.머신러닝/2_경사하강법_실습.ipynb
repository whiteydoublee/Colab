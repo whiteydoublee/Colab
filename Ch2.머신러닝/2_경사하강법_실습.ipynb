{
  "nbformat": 4,
  "nbformat_minor": 0,
  "metadata": {
    "colab": {
      "name": "2_경사하강법 실습.ipynb",
      "provenance": [],
      "collapsed_sections": [],
      "authorship_tag": "ABX9TyP+W/xScTNhPbujY5AmaxHf",
      "include_colab_link": true
    },
    "kernelspec": {
      "name": "python3",
      "display_name": "Python 3"
    },
    "language_info": {
      "name": "python"
    }
  },
  "cells": [
    {
      "cell_type": "markdown",
      "metadata": {
        "id": "view-in-github",
        "colab_type": "text"
      },
      "source": [
        "<a href=\"https://colab.research.google.com/github/whiteydoublee/Colab/blob/main/Ch2.%EB%A8%B8%EC%8B%A0%EB%9F%AC%EB%8B%9D/2_%EA%B2%BD%EC%82%AC%ED%95%98%EA%B0%95%EB%B2%95_%EC%8B%A4%EC%8A%B5.ipynb\" target=\"_parent\"><img src=\"https://colab.research.google.com/assets/colab-badge.svg\" alt=\"Open In Colab\"/></a>"
      ]
    },
    {
      "cell_type": "code",
      "metadata": {
        "colab": {
          "base_uri": "https://localhost:8080/",
          "height": 35
        },
        "id": "KK5NncEiF6OQ",
        "outputId": "ac90a065-f44a-44a5-a97d-6c440c7cc91c"
      },
      "source": [
        "\"\"\"\n",
        "날짜: 2021/10/19\n",
        "이름: 김예은\n",
        "내용: 머신러닝 경사하강법 실습하기\n",
        "\"\"\""
      ],
      "execution_count": null,
      "outputs": [
        {
          "output_type": "execute_result",
          "data": {
            "application/vnd.google.colaboratory.intrinsic+json": {
              "type": "string"
            },
            "text/plain": [
              "'\\n날짜: 2021/10/19\\n이름: 김예은\\n내용: 머신러닝 경사하강법 실습하기\\n'"
            ]
          },
          "metadata": {},
          "execution_count": 1
        }
      ]
    },
    {
      "cell_type": "code",
      "metadata": {
        "id": "hslioSy9GHyi"
      },
      "source": [
        "#데이터 준비\n",
        "x_data=[170, 155, 150, 175, 165]\n",
        "y_data=[65, 50, 45, 70, 55]\n",
        "\n",
        "a = 0 #기울기\n",
        "b = 0 #절편\n",
        "eta = 0.0000075 #하강률"
      ],
      "execution_count": null,
      "outputs": []
    },
    {
      "cell_type": "code",
      "metadata": {
        "colab": {
          "base_uri": "https://localhost:8080/",
          "height": 244
        },
        "id": "EEn0htq2GO-p",
        "outputId": "7f7ec518-fbff-4219-8f3b-4352a2362760"
      },
      "source": [
        "#반복문을 통한 기울기, 절편 구하기\n",
        "while True:\n",
        "\n",
        "  new_a = a - eta * (x_data[0] * 2 * (a * x_data[0] +b - y_data[0])+\n",
        "                     x_data[1] * 2 * (a * x_data[1] +b - y_data[1])+\n",
        "                     x_data[2] * 2 * (a * x_data[2] +b - y_data[2])+\n",
        "                     x_data[3] * 2 * (a * x_data[3] +b - y_data[3])+\n",
        "                     x_data[4] * 2 * (a * x_data[4] +b - y_data[4]))\n",
        "  \n",
        "  new_b = b - eta * (2*b+2 * (x_data[0] * a - y_data[0])+\n",
        "                     2*b+2 * (x_data[1] * a - y_data[1])+\n",
        "                     2*b+2 * (x_data[2] * a - y_data[2])+\n",
        "                     2*b+2 * (x_data[3] * a - y_data[3])+\n",
        "                     2*b+2 * (x_data[4] * a - y_data[4]))\n",
        "  \n",
        "  if a == new_a:\n",
        "    break\n",
        "\n",
        "  a = new_a\n",
        "  b = new_b\n",
        "\n",
        "  print('a:%.12f, b: %.12f'%(a,b))\n",
        "\n",
        "print('a 값 :',a)\n",
        "print('b 값 :',b)"
      ],
      "execution_count": null,
      "outputs": [
        {
          "output_type": "error",
          "ename": "NameError",
          "evalue": "ignored",
          "traceback": [
            "\u001b[0;31m---------------------------------------------------------------------------\u001b[0m",
            "\u001b[0;31mNameError\u001b[0m                                 Traceback (most recent call last)",
            "\u001b[0;32m<ipython-input-3-690019ff55cb>\u001b[0m in \u001b[0;36m<module>\u001b[0;34m()\u001b[0m\n\u001b[1;32m      2\u001b[0m \u001b[0;32mwhile\u001b[0m \u001b[0;32mTrue\u001b[0m\u001b[0;34m:\u001b[0m\u001b[0;34m\u001b[0m\u001b[0;34m\u001b[0m\u001b[0m\n\u001b[1;32m      3\u001b[0m \u001b[0;34m\u001b[0m\u001b[0m\n\u001b[0;32m----> 4\u001b[0;31m   new_a = a - eta * (x_data[0] * 2 * (a * x_data[0] +b - y_data[0])+\n\u001b[0m\u001b[1;32m      5\u001b[0m                      \u001b[0mx_data\u001b[0m\u001b[0;34m[\u001b[0m\u001b[0;36m1\u001b[0m\u001b[0;34m]\u001b[0m \u001b[0;34m*\u001b[0m \u001b[0;36m2\u001b[0m \u001b[0;34m*\u001b[0m \u001b[0;34m(\u001b[0m\u001b[0ma\u001b[0m \u001b[0;34m*\u001b[0m \u001b[0mx_data\u001b[0m\u001b[0;34m[\u001b[0m\u001b[0;36m1\u001b[0m\u001b[0;34m]\u001b[0m \u001b[0;34m+\u001b[0m\u001b[0mb\u001b[0m \u001b[0;34m-\u001b[0m \u001b[0my_data\u001b[0m\u001b[0;34m[\u001b[0m\u001b[0;36m1\u001b[0m\u001b[0;34m]\u001b[0m\u001b[0;34m)\u001b[0m\u001b[0;34m+\u001b[0m\u001b[0;34m\u001b[0m\u001b[0;34m\u001b[0m\u001b[0m\n\u001b[1;32m      6\u001b[0m                      \u001b[0mx_data\u001b[0m\u001b[0;34m[\u001b[0m\u001b[0;36m2\u001b[0m\u001b[0;34m]\u001b[0m \u001b[0;34m*\u001b[0m \u001b[0;36m2\u001b[0m \u001b[0;34m*\u001b[0m \u001b[0;34m(\u001b[0m\u001b[0ma\u001b[0m \u001b[0;34m*\u001b[0m \u001b[0mx_data\u001b[0m\u001b[0;34m[\u001b[0m\u001b[0;36m2\u001b[0m\u001b[0;34m]\u001b[0m \u001b[0;34m+\u001b[0m\u001b[0mb\u001b[0m \u001b[0;34m-\u001b[0m \u001b[0my_data\u001b[0m\u001b[0;34m[\u001b[0m\u001b[0;36m2\u001b[0m\u001b[0;34m]\u001b[0m\u001b[0;34m)\u001b[0m\u001b[0;34m+\u001b[0m\u001b[0;34m\u001b[0m\u001b[0;34m\u001b[0m\u001b[0m\n",
            "\u001b[0;31mNameError\u001b[0m: name 'a' is not defined"
          ]
        }
      ]
    }
  ]
}
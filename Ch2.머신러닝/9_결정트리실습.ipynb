{
  "nbformat": 4,
  "nbformat_minor": 0,
  "metadata": {
    "colab": {
      "name": "9_결정트리실습.ipynb",
      "provenance": [],
      "collapsed_sections": [],
      "mount_file_id": "19a56COBGBdwQ7rd1vtIrle2ZJ4QweCvD",
      "authorship_tag": "ABX9TyO1+pIBcblvhceGQbanT78R",
      "include_colab_link": true
    },
    "kernelspec": {
      "name": "python3",
      "display_name": "Python 3"
    },
    "language_info": {
      "name": "python"
    }
  },
  "cells": [
    {
      "cell_type": "markdown",
      "metadata": {
        "id": "view-in-github",
        "colab_type": "text"
      },
      "source": [
        "<a href=\"https://colab.research.google.com/github/whiteydoublee/Colab/blob/main/Ch2.%EB%A8%B8%EC%8B%A0%EB%9F%AC%EB%8B%9D/9_%EA%B2%B0%EC%A0%95%ED%8A%B8%EB%A6%AC%EC%8B%A4%EC%8A%B5.ipynb\" target=\"_parent\"><img src=\"https://colab.research.google.com/assets/colab-badge.svg\" alt=\"Open In Colab\"/></a>"
      ]
    },
    {
      "cell_type": "code",
      "metadata": {
        "id": "xEJdyXRrpieW"
      },
      "source": [
        "\"\"\"\n",
        "날짜: 2021/10/20\n",
        "이름: 김예은\n",
        "내용: 결정트리 실습하기\n",
        "\"\"\"\n",
        "import pandas as pd\n",
        "import numpy as np\n",
        "import matplotlib.pyplot as plt\n",
        "from sklearn import tree, metrics\n",
        "import pydotplus\n",
        "from sklearn.model_selection import train_test_split"
      ],
      "execution_count": 4,
      "outputs": []
    },
    {
      "cell_type": "code",
      "metadata": {
        "colab": {
          "base_uri": "https://localhost:8080/",
          "height": 422
        },
        "id": "VD_xm3F6p7Ju",
        "outputId": "19fbb1be-7a6f-4b4f-cad2-0db652058ec0"
      },
      "source": [
        "#데이터불러오기\n",
        "df_iris = pd.read_csv('/content/drive/MyDrive/Colab Notebooks/file/iris.csv')\n",
        "df_iris"
      ],
      "execution_count": 5,
      "outputs": [
        {
          "output_type": "execute_result",
          "data": {
            "text/html": [
              "<div>\n",
              "<style scoped>\n",
              "    .dataframe tbody tr th:only-of-type {\n",
              "        vertical-align: middle;\n",
              "    }\n",
              "\n",
              "    .dataframe tbody tr th {\n",
              "        vertical-align: top;\n",
              "    }\n",
              "\n",
              "    .dataframe thead th {\n",
              "        text-align: right;\n",
              "    }\n",
              "</style>\n",
              "<table border=\"1\" class=\"dataframe\">\n",
              "  <thead>\n",
              "    <tr style=\"text-align: right;\">\n",
              "      <th></th>\n",
              "      <th>sepal.length</th>\n",
              "      <th>sepal.width</th>\n",
              "      <th>petal.length</th>\n",
              "      <th>petal.width</th>\n",
              "      <th>variety</th>\n",
              "    </tr>\n",
              "  </thead>\n",
              "  <tbody>\n",
              "    <tr>\n",
              "      <th>0</th>\n",
              "      <td>5.1</td>\n",
              "      <td>3.5</td>\n",
              "      <td>1.4</td>\n",
              "      <td>0.2</td>\n",
              "      <td>Setosa</td>\n",
              "    </tr>\n",
              "    <tr>\n",
              "      <th>1</th>\n",
              "      <td>4.9</td>\n",
              "      <td>3.0</td>\n",
              "      <td>1.4</td>\n",
              "      <td>0.2</td>\n",
              "      <td>Setosa</td>\n",
              "    </tr>\n",
              "    <tr>\n",
              "      <th>2</th>\n",
              "      <td>4.7</td>\n",
              "      <td>3.2</td>\n",
              "      <td>1.3</td>\n",
              "      <td>0.2</td>\n",
              "      <td>Setosa</td>\n",
              "    </tr>\n",
              "    <tr>\n",
              "      <th>3</th>\n",
              "      <td>4.6</td>\n",
              "      <td>3.1</td>\n",
              "      <td>1.5</td>\n",
              "      <td>0.2</td>\n",
              "      <td>Setosa</td>\n",
              "    </tr>\n",
              "    <tr>\n",
              "      <th>4</th>\n",
              "      <td>5.0</td>\n",
              "      <td>3.6</td>\n",
              "      <td>1.4</td>\n",
              "      <td>0.2</td>\n",
              "      <td>Setosa</td>\n",
              "    </tr>\n",
              "    <tr>\n",
              "      <th>...</th>\n",
              "      <td>...</td>\n",
              "      <td>...</td>\n",
              "      <td>...</td>\n",
              "      <td>...</td>\n",
              "      <td>...</td>\n",
              "    </tr>\n",
              "    <tr>\n",
              "      <th>145</th>\n",
              "      <td>6.7</td>\n",
              "      <td>3.0</td>\n",
              "      <td>5.2</td>\n",
              "      <td>2.3</td>\n",
              "      <td>Virginica</td>\n",
              "    </tr>\n",
              "    <tr>\n",
              "      <th>146</th>\n",
              "      <td>6.3</td>\n",
              "      <td>2.5</td>\n",
              "      <td>5.0</td>\n",
              "      <td>1.9</td>\n",
              "      <td>Virginica</td>\n",
              "    </tr>\n",
              "    <tr>\n",
              "      <th>147</th>\n",
              "      <td>6.5</td>\n",
              "      <td>3.0</td>\n",
              "      <td>5.2</td>\n",
              "      <td>2.0</td>\n",
              "      <td>Virginica</td>\n",
              "    </tr>\n",
              "    <tr>\n",
              "      <th>148</th>\n",
              "      <td>6.2</td>\n",
              "      <td>3.4</td>\n",
              "      <td>5.4</td>\n",
              "      <td>2.3</td>\n",
              "      <td>Virginica</td>\n",
              "    </tr>\n",
              "    <tr>\n",
              "      <th>149</th>\n",
              "      <td>5.9</td>\n",
              "      <td>3.0</td>\n",
              "      <td>5.1</td>\n",
              "      <td>1.8</td>\n",
              "      <td>Virginica</td>\n",
              "    </tr>\n",
              "  </tbody>\n",
              "</table>\n",
              "<p>150 rows × 5 columns</p>\n",
              "</div>"
            ],
            "text/plain": [
              "     sepal.length  sepal.width  petal.length  petal.width    variety\n",
              "0             5.1          3.5           1.4          0.2     Setosa\n",
              "1             4.9          3.0           1.4          0.2     Setosa\n",
              "2             4.7          3.2           1.3          0.2     Setosa\n",
              "3             4.6          3.1           1.5          0.2     Setosa\n",
              "4             5.0          3.6           1.4          0.2     Setosa\n",
              "..            ...          ...           ...          ...        ...\n",
              "145           6.7          3.0           5.2          2.3  Virginica\n",
              "146           6.3          2.5           5.0          1.9  Virginica\n",
              "147           6.5          3.0           5.2          2.0  Virginica\n",
              "148           6.2          3.4           5.4          2.3  Virginica\n",
              "149           5.9          3.0           5.1          1.8  Virginica\n",
              "\n",
              "[150 rows x 5 columns]"
            ]
          },
          "metadata": {},
          "execution_count": 5
        }
      ]
    },
    {
      "cell_type": "code",
      "metadata": {
        "id": "U5BnKDRPqUGH"
      },
      "source": [
        "#학습데이터\n",
        "iris_train_data = df_iris.iloc[:, 0:4]\n",
        "iris_train_label = df_iris.iloc[:, 4]\n",
        "iris_train_label\n",
        "\n",
        "train_data, test_data, train_label, test_label = train_test_split(iris_train_data, iris_train_label)"
      ],
      "execution_count": 6,
      "outputs": []
    },
    {
      "cell_type": "code",
      "metadata": {
        "colab": {
          "base_uri": "https://localhost:8080/"
        },
        "id": "QIbfo6aFqgZV",
        "outputId": "f732503b-40e3-4f3c-f4b0-839d9a1860d5"
      },
      "source": [
        "#학습하기\n",
        "model = tree.DecisionTreeClassifier()\n",
        "model.fit(train_data, train_label)"
      ],
      "execution_count": 8,
      "outputs": [
        {
          "output_type": "execute_result",
          "data": {
            "text/plain": [
              "DecisionTreeClassifier(ccp_alpha=0.0, class_weight=None, criterion='gini',\n",
              "                       max_depth=None, max_features=None, max_leaf_nodes=None,\n",
              "                       min_impurity_decrease=0.0, min_impurity_split=None,\n",
              "                       min_samples_leaf=1, min_samples_split=2,\n",
              "                       min_weight_fraction_leaf=0.0, presort='deprecated',\n",
              "                       random_state=None, splitter='best')"
            ]
          },
          "metadata": {},
          "execution_count": 8
        }
      ]
    },
    {
      "cell_type": "code",
      "metadata": {
        "colab": {
          "base_uri": "https://localhost:8080/"
        },
        "id": "PlMD-nWmq_ue",
        "outputId": "e00c1202-ebd9-4152-e282-ececef4dd85d"
      },
      "source": [
        "#테스트하기\n",
        "result = model.predict(test_data)\n",
        "result"
      ],
      "execution_count": 11,
      "outputs": [
        {
          "output_type": "execute_result",
          "data": {
            "text/plain": [
              "array(['Versicolor', 'Setosa', 'Setosa', 'Versicolor', 'Versicolor',\n",
              "       'Virginica', 'Setosa', 'Versicolor', 'Versicolor', 'Versicolor',\n",
              "       'Virginica', 'Setosa', 'Versicolor', 'Versicolor', 'Versicolor',\n",
              "       'Setosa', 'Setosa', 'Setosa', 'Versicolor', 'Virginica',\n",
              "       'Versicolor', 'Versicolor', 'Versicolor', 'Virginica',\n",
              "       'Versicolor', 'Versicolor', 'Versicolor', 'Virginica', 'Setosa',\n",
              "       'Setosa', 'Setosa', 'Versicolor', 'Virginica', 'Versicolor',\n",
              "       'Setosa', 'Virginica', 'Virginica', 'Setosa'], dtype=object)"
            ]
          },
          "metadata": {},
          "execution_count": 11
        }
      ]
    },
    {
      "cell_type": "code",
      "metadata": {
        "colab": {
          "base_uri": "https://localhost:8080/"
        },
        "id": "PBFvGRUwrJkN",
        "outputId": "da1e6f31-cf96-4df9-b48e-c11bc6ed1e85"
      },
      "source": [
        "#성능평가\n",
        "score = metrics.accuracy_score(result, test_label)\n",
        "score"
      ],
      "execution_count": 13,
      "outputs": [
        {
          "output_type": "execute_result",
          "data": {
            "text/plain": [
              "0.9473684210526315"
            ]
          },
          "metadata": {},
          "execution_count": 13
        }
      ]
    },
    {
      "cell_type": "code",
      "metadata": {
        "colab": {
          "base_uri": "https://localhost:8080/"
        },
        "id": "RoqNR-xRrTKd",
        "outputId": "bd4a6c37-b279-4000-cb5d-a75b7dea8ac5"
      },
      "source": [
        "# 모델 설명 확인\n",
        "model_text = tree.export_text(model)\n",
        "print(model_text)"
      ],
      "execution_count": 16,
      "outputs": [
        {
          "output_type": "stream",
          "name": "stdout",
          "text": [
            "|--- feature_3 <= 0.80\n",
            "|   |--- class: Setosa\n",
            "|--- feature_3 >  0.80\n",
            "|   |--- feature_3 <= 1.75\n",
            "|   |   |--- feature_2 <= 5.05\n",
            "|   |   |   |--- feature_3 <= 1.60\n",
            "|   |   |   |   |--- class: Versicolor\n",
            "|   |   |   |--- feature_3 >  1.60\n",
            "|   |   |   |   |--- feature_0 <= 5.80\n",
            "|   |   |   |   |   |--- class: Virginica\n",
            "|   |   |   |   |--- feature_0 >  5.80\n",
            "|   |   |   |   |   |--- class: Versicolor\n",
            "|   |   |--- feature_2 >  5.05\n",
            "|   |   |   |--- feature_0 <= 6.15\n",
            "|   |   |   |   |--- class: Versicolor\n",
            "|   |   |   |--- feature_0 >  6.15\n",
            "|   |   |   |   |--- class: Virginica\n",
            "|   |--- feature_3 >  1.75\n",
            "|   |   |--- feature_2 <= 4.85\n",
            "|   |   |   |--- feature_0 <= 5.95\n",
            "|   |   |   |   |--- class: Versicolor\n",
            "|   |   |   |--- feature_0 >  5.95\n",
            "|   |   |   |   |--- class: Virginica\n",
            "|   |   |--- feature_2 >  4.85\n",
            "|   |   |   |--- class: Virginica\n",
            "\n"
          ]
        }
      ]
    },
    {
      "cell_type": "code",
      "metadata": {
        "colab": {
          "base_uri": "https://localhost:8080/",
          "height": 686
        },
        "id": "a_5PAMVMr1iO",
        "outputId": "9d15277a-f5e7-44d8-e3fd-3846f1458986"
      },
      "source": [
        "#모델 시각화\n",
        "fig = plt.figure(figsize=(6,6))\n",
        "tree.plot_tree(model, feature_names=['speal.length','sepal.width','petal.length','petal.width'], \n",
        "               class_names=['Setosa','Virginica','Vircicolor'],\n",
        "               filled=True)"
      ],
      "execution_count": 18,
      "outputs": [
        {
          "output_type": "execute_result",
          "data": {
            "text/plain": [
              "[Text(167.4, 298.98, 'petal.width <= 0.8\\ngini = 0.665\\nsamples = 112\\nvalue = [38, 34, 40]\\nclass = Vircicolor'),\n",
              " Text(141.64615384615385, 244.62, 'gini = 0.0\\nsamples = 38\\nvalue = [38, 0, 0]\\nclass = Setosa'),\n",
              " Text(193.15384615384616, 244.62, 'petal.width <= 1.75\\ngini = 0.497\\nsamples = 74\\nvalue = [0, 34, 40]\\nclass = Vircicolor'),\n",
              " Text(103.01538461538462, 190.26000000000002, 'petal.length <= 5.05\\ngini = 0.153\\nsamples = 36\\nvalue = [0, 33, 3]\\nclass = Virginica'),\n",
              " Text(51.50769230769231, 135.9, 'petal.width <= 1.6\\ngini = 0.059\\nsamples = 33\\nvalue = [0, 32, 1]\\nclass = Virginica'),\n",
              " Text(25.753846153846155, 81.53999999999999, 'gini = 0.0\\nsamples = 31\\nvalue = [0, 31, 0]\\nclass = Virginica'),\n",
              " Text(77.26153846153846, 81.53999999999999, 'speal.length <= 5.8\\ngini = 0.5\\nsamples = 2\\nvalue = [0, 1, 1]\\nclass = Virginica'),\n",
              " Text(51.50769230769231, 27.180000000000007, 'gini = 0.0\\nsamples = 1\\nvalue = [0, 0, 1]\\nclass = Vircicolor'),\n",
              " Text(103.01538461538462, 27.180000000000007, 'gini = 0.0\\nsamples = 1\\nvalue = [0, 1, 0]\\nclass = Virginica'),\n",
              " Text(154.52307692307693, 135.9, 'speal.length <= 6.15\\ngini = 0.444\\nsamples = 3\\nvalue = [0, 1, 2]\\nclass = Vircicolor'),\n",
              " Text(128.76923076923077, 81.53999999999999, 'gini = 0.0\\nsamples = 1\\nvalue = [0, 1, 0]\\nclass = Virginica'),\n",
              " Text(180.27692307692308, 81.53999999999999, 'gini = 0.0\\nsamples = 2\\nvalue = [0, 0, 2]\\nclass = Vircicolor'),\n",
              " Text(283.2923076923077, 190.26000000000002, 'petal.length <= 4.85\\ngini = 0.051\\nsamples = 38\\nvalue = [0, 1, 37]\\nclass = Vircicolor'),\n",
              " Text(257.53846153846155, 135.9, 'speal.length <= 5.95\\ngini = 0.444\\nsamples = 3\\nvalue = [0, 1, 2]\\nclass = Vircicolor'),\n",
              " Text(231.7846153846154, 81.53999999999999, 'gini = 0.0\\nsamples = 1\\nvalue = [0, 1, 0]\\nclass = Virginica'),\n",
              " Text(283.2923076923077, 81.53999999999999, 'gini = 0.0\\nsamples = 2\\nvalue = [0, 0, 2]\\nclass = Vircicolor'),\n",
              " Text(309.04615384615386, 135.9, 'gini = 0.0\\nsamples = 35\\nvalue = [0, 0, 35]\\nclass = Vircicolor')]"
            ]
          },
          "metadata": {},
          "execution_count": 18
        },
        {
          "output_type": "display_data",
          "data": {
            "image/png": "[encoded data removed]",
            "text/plain": [
              "<Figure size 432x432 with 1 Axes>"
            ]
          },
          "metadata": {
            "needs_background": "light"
          }
        }
      ]
    },
    {
      "cell_type": "code",
      "metadata": {
        "id": "VFHT17CTttjO"
      },
      "source": [
        ""
      ],
      "execution_count": null,
      "outputs": []
    }
  ]
}
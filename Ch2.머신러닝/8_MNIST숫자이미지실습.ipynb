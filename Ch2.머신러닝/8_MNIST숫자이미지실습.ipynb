{
  "nbformat": 4,
  "nbformat_minor": 0,
  "metadata": {
    "colab": {
      "name": "8_MNIST숫자이미지실습.ipynb",
      "provenance": [],
      "collapsed_sections": [],
      "mount_file_id": "1x9lWmkzDqZI_-MpL9r-i1P5XRkdLDLlv",
      "authorship_tag": "ABX9TyO1lcL59ZRT7yVXLajvQnsS",
      "include_colab_link": true
    },
    "kernelspec": {
      "name": "python3",
      "display_name": "Python 3"
    },
    "language_info": {
      "name": "python"
    }
  },
  "cells": [
    {
      "cell_type": "markdown",
      "metadata": {
        "id": "view-in-github",
        "colab_type": "text"
      },
      "source": [
        "<a href=\"https://colab.research.google.com/github/whiteydoublee/Colab/blob/main/Ch2.%EB%A8%B8%EC%8B%A0%EB%9F%AC%EB%8B%9D/8_MNIST%EC%88%AB%EC%9E%90%EC%9D%B4%EB%AF%B8%EC%A7%80%EC%8B%A4%EC%8A%B5.ipynb\" target=\"_parent\"><img src=\"https://colab.research.google.com/assets/colab-badge.svg\" alt=\"Open In Colab\"/></a>"
      ]
    },
    {
      "cell_type": "code",
      "metadata": {
        "id": "UAWcugMcZ_Gj"
      },
      "source": [
        "\"\"\"\n",
        "날짜: 2021/10/20\n",
        "이름: 김예은\n",
        "내용: MNIST 숫자 이미지 실습하기\n",
        "\"\"\"\n",
        "import pandas as pd\n",
        "import numpy as np\n",
        "import matplotlib.pyplot as plt\n",
        "from sklearn import svm, metrics\n",
        "from sklearn.model_selection import train_test_split"
      ],
      "execution_count": 7,
      "outputs": []
    },
    {
      "cell_type": "code",
      "metadata": {
        "id": "QKrQYKluaMPW"
      },
      "source": [
        "#데이터불러오기\n",
        "df_mnist_train_data = pd.read_csv('/content/drive/MyDrive/Colab Notebooks/file/mnist_train.csv')\n",
        "df_mnist_test_data = pd.read_csv('/content/drive/MyDrive/Colab Notebooks/file/mnist_test.csv')\n"
      ],
      "execution_count": 8,
      "outputs": []
    },
    {
      "cell_type": "code",
      "metadata": {
        "colab": {
          "base_uri": "https://localhost:8080/",
          "height": 283
        },
        "id": "fR6rbzILcdCm",
        "outputId": "49cbec37-7047-4010-d7a5-5026ffbb2fed"
      },
      "source": [
        "#픽셀 데이터 이미지 출력\n",
        "img_list = df_mnist_train_data.iloc[20000, 1:].tolist()\n",
        "img = np.reshape(img_list, [28,28])\n",
        "plt.imshow(img)\n"
      ],
      "execution_count": 9,
      "outputs": [
        {
          "output_type": "execute_result",
          "data": {
            "text/plain": [
              "<matplotlib.image.AxesImage at 0x7f3795ed9390>"
            ]
          },
          "metadata": {},
          "execution_count": 9
        },
        {
          "output_type": "display_data",
          "data": {
            "image/png": "[encoded data removed]",
            "text/plain": [
              "<Figure size 432x288 with 1 Axes>"
            ]
          },
          "metadata": {
            "needs_background": "light"
          }
        }
      ]
    },
    {
      "cell_type": "code",
      "metadata": {
        "colab": {
          "base_uri": "https://localhost:8080/"
        },
        "id": "jfS2pajYd2qF",
        "outputId": "1c2dee73-0cea-4884-c47d-f0c8fa02dd3e"
      },
      "source": [
        "#학습데이터\n",
        "mnist_train_data = df_mnist_train_data.iloc[:,1:] / 255 # 학습데이터가 크면 학습성능이 저하되므로 0~1사이 실수로 정규화한다..\n",
        "mnist_train_label = df_mnist_train_data.iloc[:,0]\n",
        "print(mnist_train_data.shape)\n",
        "\n",
        "mnist_test_data = df_mnist_test_data.iloc[:,1:] / 255 # 테스트 데이터 \n",
        "mnist_test_label = df_mnist_test_data.iloc[:,0]\n",
        "print(mnist_test_data.shape)"
      ],
      "execution_count": 10,
      "outputs": [
        {
          "output_type": "stream",
          "name": "stdout",
          "text": [
            "(60000, 784)\n",
            "(10000, 784)\n"
          ]
        }
      ]
    },
    {
      "cell_type": "code",
      "metadata": {
        "colab": {
          "base_uri": "https://localhost:8080/"
        },
        "id": "y8g9AVwAfUEF",
        "outputId": "59102e16-025f-4d9f-8393-4b675539eb56"
      },
      "source": [
        "#학습하기\n",
        "model = svm.SVC()\n",
        "model.fit(mnist_train_data, mnist_train_label)"
      ],
      "execution_count": 11,
      "outputs": [
        {
          "output_type": "execute_result",
          "data": {
            "text/plain": [
              "SVC(C=1.0, break_ties=False, cache_size=200, class_weight=None, coef0=0.0,\n",
              "    decision_function_shape='ovr', degree=3, gamma='scale', kernel='rbf',\n",
              "    max_iter=-1, probability=False, random_state=None, shrinking=True,\n",
              "    tol=0.001, verbose=False)"
            ]
          },
          "metadata": {},
          "execution_count": 11
        }
      ]
    },
    {
      "cell_type": "code",
      "metadata": {
        "colab": {
          "base_uri": "https://localhost:8080/"
        },
        "id": "ndCc4B1BgxHe",
        "outputId": "6afc6ab6-cfde-4eef-8744-163ac4fbe884"
      },
      "source": [
        "#테스트\n",
        "result = model.predict(mnist_test_data)\n",
        "result"
      ],
      "execution_count": 13,
      "outputs": [
        {
          "output_type": "execute_result",
          "data": {
            "text/plain": [
              "array([7, 2, 1, ..., 4, 5, 6])"
            ]
          },
          "metadata": {},
          "execution_count": 13
        }
      ]
    },
    {
      "cell_type": "code",
      "metadata": {
        "colab": {
          "base_uri": "https://localhost:8080/"
        },
        "id": "y4nMVxQchADt",
        "outputId": "96469688-32d1-4ea5-ae69-b34752baddc8"
      },
      "source": [
        "#성능평가\n",
        "score = metrics.accuracy_score(result, mnist_test_label)\n",
        "score"
      ],
      "execution_count": 15,
      "outputs": [
        {
          "output_type": "execute_result",
          "data": {
            "text/plain": [
              "0.9792"
            ]
          },
          "metadata": {},
          "execution_count": 15
        }
      ]
    },
    {
      "cell_type": "code",
      "metadata": {
        "colab": {
          "base_uri": "https://localhost:8080/",
          "height": 283
        },
        "id": "OjxXMbFki5b-",
        "outputId": "a6acfb18-6d13-4f0f-9a3d-0480aa08d949"
      },
      "source": [
        "#검증\n",
        "row = 2\n",
        "\n",
        "img_list = mnist_test_data.iloc[row, :].tolist()\n",
        "img = np.reshape(img_list, [28,28])\n",
        "plt.imshow(img)\n",
        "plt.show()\n",
        "\n",
        "answer = model.predict(mnist_train_data.iloc[[row], :])\n",
        "answer[0]"
      ],
      "execution_count": 30,
      "outputs": [
        {
          "output_type": "display_data",
          "data": {
            "image/png": "[encoded data removed]",
            "text/plain": [
              "<Figure size 432x288 with 1 Axes>"
            ]
          },
          "metadata": {
            "needs_background": "light"
          }
        },
        {
          "output_type": "execute_result",
          "data": {
            "text/plain": [
              "4"
            ]
          },
          "metadata": {},
          "execution_count": 30
        }
      ]
    }
  ]
}
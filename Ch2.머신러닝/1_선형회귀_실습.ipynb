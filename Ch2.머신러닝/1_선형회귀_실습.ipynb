{
  "nbformat": 4,
  "nbformat_minor": 0,
  "metadata": {
    "colab": {
      "name": "1_선형회귀 실습.ipynb",
      "provenance": [],
      "collapsed_sections": [],
      "authorship_tag": "ABX9TyOGkkxsnUp1SO1cOGsi+ls2",
      "include_colab_link": true
    },
    "kernelspec": {
      "name": "python3",
      "display_name": "Python 3"
    },
    "language_info": {
      "name": "python"
    }
  },
  "cells": [
    {
      "cell_type": "markdown",
      "metadata": {
        "id": "view-in-github",
        "colab_type": "text"
      },
      "source": [
        "<a href=\"https://colab.research.google.com/github/whiteydoublee/Colab/blob/main/Ch2.%EB%A8%B8%EC%8B%A0%EB%9F%AC%EB%8B%9D/1_%EC%84%A0%ED%98%95%ED%9A%8C%EA%B7%80_%EC%8B%A4%EC%8A%B5.ipynb\" target=\"_parent\"><img src=\"https://colab.research.google.com/assets/colab-badge.svg\" alt=\"Open In Colab\"/></a>"
      ]
    },
    {
      "cell_type": "code",
      "metadata": {
        "id": "ftr-IYSsCnt3"
      },
      "source": [
        "\"\"\"\n",
        "날짜: 2021/10/19\n",
        "이름: 김예은\n",
        "내용: 머신러닝 선형회귀분석 실습하기\n",
        "\"\"\"\n",
        "from scipy import stats\n",
        "from sklearn.linear_model import LinearRegression"
      ],
      "execution_count": null,
      "outputs": []
    },
    {
      "cell_type": "code",
      "metadata": {
        "colab": {
          "base_uri": "https://localhost:8080/"
        },
        "id": "iefUsHmSLMrj",
        "outputId": "b9c6f440-b086-4e8f-f0f1-fa5b04fcf76d"
      },
      "source": [
        "#학습데이터\n",
        "x_data=[170, 155, 150, 175, 165]\n",
        "y_data=[65, 50, 45, 70, 55]\n",
        "\n",
        "#기울기, 절편 확인하기\n",
        "slope, intercept, r, p, std = stats.linregress(x_data, y_data)\n",
        "print('기울기 :', slope)\n",
        "print('절편 :', intercept)"
      ],
      "execution_count": null,
      "outputs": [
        {
          "output_type": "stream",
          "name": "stdout",
          "text": [
            "기울기 : 0.9767441860465116\n",
            "절편 : -102.20930232558138\n"
          ]
        }
      ]
    },
    {
      "cell_type": "code",
      "metadata": {
        "id": "wOlxDFQyMNca"
      },
      "source": [
        "#학습모델 정의\n",
        "def model(x):\n",
        "  y = 0.9767441860465116 * x -102.20930232558138\n",
        "  return y"
      ],
      "execution_count": null,
      "outputs": []
    },
    {
      "cell_type": "code",
      "metadata": {
        "colab": {
          "base_uri": "https://localhost:8080/"
        },
        "id": "uUguRGbIMaE6",
        "outputId": "ed04fe25-0f18-4357-a115-ac0c40957b53"
      },
      "source": [
        "#테스트하기\n",
        "test_data = [160, 172, 178, 186, 154]\n",
        "for i in test_data:\n",
        "  print(model(i), end=' ')"
      ],
      "execution_count": null,
      "outputs": [
        {
          "output_type": "stream",
          "name": "stdout",
          "text": [
            "54.06976744186048 65.79069767441862 71.6511627906977 79.46511627906978 48.209302325581405 "
          ]
        }
      ]
    },
    {
      "cell_type": "code",
      "metadata": {
        "colab": {
          "base_uri": "https://localhost:8080/"
        },
        "id": "LYagCSnnPyEa",
        "outputId": "393f594a-896a-48a6-bbd2-37104883e06c"
      },
      "source": [
        "#선형회귀 알고리즘을 이용한 머신러닝\n",
        "train_data = [[170], [155], [150], [175], [165]]\n",
        "train_label = [65, 50, 45, 70, 55]\n",
        "\n",
        "#학습하기\n",
        "model = LinearRegression()\n",
        "model.fit(train_data, train_label)"
      ],
      "execution_count": null,
      "outputs": [
        {
          "output_type": "execute_result",
          "data": {
            "text/plain": [
              "LinearRegression(copy_X=True, fit_intercept=True, n_jobs=None, normalize=False)"
            ]
          },
          "metadata": {},
          "execution_count": 8
        }
      ]
    },
    {
      "cell_type": "code",
      "metadata": {
        "colab": {
          "base_uri": "https://localhost:8080/"
        },
        "id": "CHA2l22kQj75",
        "outputId": "20b51c52-0300-4db8-c0b4-d27d07499100"
      },
      "source": [
        "#테스트하기\n",
        "test_data = [[160], [172], [178], [186], [154]]\n",
        "result = model.predict(test_data)\n",
        "result"
      ],
      "execution_count": null,
      "outputs": [
        {
          "output_type": "execute_result",
          "data": {
            "text/plain": [
              "array([54.06976744, 65.79069767, 71.65116279, 79.46511628, 48.20930233])"
            ]
          },
          "metadata": {},
          "execution_count": 9
        }
      ]
    }
  ]
}
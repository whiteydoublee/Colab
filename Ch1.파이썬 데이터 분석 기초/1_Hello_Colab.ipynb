{
  "nbformat": 4,
  "nbformat_minor": 0,
  "metadata": {
    "colab": {
      "name": "1_Hello Colab.ipynb",
      "provenance": [],
      "collapsed_sections": [],
      "authorship_tag": "ABX9TyPuhWLlaVxfCFGsXVAcoEuO",
      "include_colab_link": true
    },
    "kernelspec": {
      "name": "python3",
      "display_name": "Python 3"
    },
    "language_info": {
      "name": "python"
    }
  },
  "cells": [
    {
      "cell_type": "markdown",
      "metadata": {
        "id": "view-in-github",
        "colab_type": "text"
      },
      "source": [
        "<a href=\"https://colab.research.google.com/github/whiteydoublee/Colab/blob/main/Ch1.%ED%8C%8C%EC%9D%B4%EC%8D%AC%20%EB%8D%B0%EC%9D%B4%ED%84%B0%20%EB%B6%84%EC%84%9D%20%EA%B8%B0%EC%B4%88/1_Hello_Colab.ipynb\" target=\"_parent\"><img src=\"https://colab.research.google.com/assets/colab-badge.svg\" alt=\"Open In Colab\"/></a>"
      ]
    },
    {
      "cell_type": "code",
      "metadata": {
        "colab": {
          "base_uri": "https://localhost:8080/",
          "height": 35
        },
        "id": "fxBu-xUJzXpc",
        "outputId": "a8a237ef-388f-426d-eb67-0c818fb198ce"
      },
      "source": [
        "\"\"\"\n",
        "날짜 : 2021/10/18\n",
        "이름 : 김예은\n",
        "내용 : Hello Colab 실습하기\n",
        "\"\"\"\n"
      ],
      "execution_count": null,
      "outputs": [
        {
          "output_type": "execute_result",
          "data": {
            "application/vnd.google.colaboratory.intrinsic+json": {
              "type": "string"
            },
            "text/plain": [
              "'\\n날짜 : 2021/10/18\\n이름 : 김예은\\n내용 : Hello Colab 실습하기\\n'"
            ]
          },
          "metadata": {},
          "execution_count": 2
        }
      ]
    },
    {
      "cell_type": "code",
      "metadata": {
        "colab": {
          "base_uri": "https://localhost:8080/"
        },
        "id": "kqC6dK4xzzup",
        "outputId": "2530ebcd-e0c7-48b5-c818-1ea934bb0225"
      },
      "source": [
        "print('Hello Colab!')"
      ],
      "execution_count": null,
      "outputs": [
        {
          "output_type": "stream",
          "name": "stdout",
          "text": [
            "Hello Colab!\n"
          ]
        }
      ]
    },
    {
      "cell_type": "code",
      "metadata": {
        "id": "vO69D7twz0_C"
      },
      "source": [
        "\n",
        "num1 = 1\n",
        "num2 = 2\n",
        "num3 = num1 + num2"
      ],
      "execution_count": null,
      "outputs": []
    },
    {
      "cell_type": "code",
      "metadata": {
        "id": "9wiTSO3Kz4VC",
        "colab": {
          "base_uri": "https://localhost:8080/"
        },
        "outputId": "9fa7386a-8f36-4262-e557-1c6f30357c5c"
      },
      "source": [
        "num3"
      ],
      "execution_count": null,
      "outputs": [
        {
          "output_type": "execute_result",
          "data": {
            "text/plain": [
              "3"
            ]
          },
          "metadata": {},
          "execution_count": 6
        }
      ]
    }
  ]
}